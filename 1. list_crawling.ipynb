{
 "cells": [
  {
   "attachments": {},
   "cell_type": "markdown",
   "metadata": {},
   "source": [
    "### 1. 필요 라이브러리 호출"
   ]
  },
  {
   "cell_type": "code",
   "execution_count": 1,
   "metadata": {},
   "outputs": [],
   "source": [
    "import pandas as pd\n",
    "import numpy as np\n",
    "from tqdm import tqdm\n",
    "import requests\n",
    "import json\n",
    "from bs4 import BeautifulSoup"
   ]
  },
  {
   "attachments": {},
   "cell_type": "markdown",
   "metadata": {},
   "source": [
    "### 2. OPEN API 활용 데이터 수집"
   ]
  },
  {
   "cell_type": "code",
   "execution_count": 142,
   "metadata": {},
   "outputs": [],
   "source": [
    "columns = ['eiEmplCnt3Gt10', 'eiEmplRate6', 'eiEmplCnt3', 'eiEmplRate3', 'traEndDate', 'subTitle', 'instCd', 'trprId', 'yardMan', 'title', 'courseMan', 'realMan', 'telNo', 'traStartDate', 'grade', 'ncsCd', 'regCourseMan', 'trprDegr', 'address', 'trainTarget', 'trainTargetCd', 'trainstCstId', 'contents', 'subTitleLink', 'titleLink', 'titleIcon']"
   ]
  },
  {
   "cell_type": "code",
   "execution_count": 150,
   "metadata": {},
   "outputs": [
    {
     "name": "stderr",
     "output_type": "stream",
     "text": [
      "100%|██████████| 885/885 [1:12:46<00:00,  4.93s/it]\n"
     ]
    }
   ],
   "source": [
    "# 사전에 정의된 컬럼들로 데이터 프레임 생성\n",
    "\n",
    "df_hrd = pd.DataFrame(columns=columns) \n",
    "\n",
    "for i in tqdm(range(1,886)): # 88500개 있는데 한 페이지당 최대 100개 가능하니까 1~885 (갯수는 기간 설정에 따라 바뀜)\n",
    "    \n",
    "    url = 'https://www.hrd.go.kr/jsp/HRDP/HRDPO00/HRDPOA60/HRDPOA60_1.jsp?authKey=BVnnOlx3MTUef0PaPC4O6IHKCsQ3uX9L&returnType=JSON&outType=1&pageNum={}&pageSize=100&srchTraStDt=20230327&srchTraEndDt=20240327&sort=ASC&sortCol=TRNG_BGDE'.format(i)\n",
    "\n",
    "    response = requests.get(url)\n",
    "\n",
    "    js = response.json()\n",
    "\n",
    "    dic = json.loads(js['returnJSON'])['srchList']\n",
    "\n",
    "    for j in range(100):\n",
    "\n",
    "        df_hrd.loc[100*(i-1)+j] = dic[j]"
   ]
  },
  {
   "attachments": {},
   "cell_type": "markdown",
   "metadata": {},
   "source": [
    "### 3. 기본 전처리"
   ]
  },
  {
   "cell_type": "code",
   "execution_count": 164,
   "metadata": {},
   "outputs": [],
   "source": [
    "# 17년도 이후 제공하지 않는 정보 drop\n",
    "\n",
    "df_hrd.drop(columns = 'eiEmplCnt3Gt10',inplace=True) "
   ]
  },
  {
   "cell_type": "code",
   "execution_count": 166,
   "metadata": {},
   "outputs": [],
   "source": [
    "# 컬럼명 변경\n",
    "\n",
    "df_hrd.rename(columns = {'eiEmplRate6' : '6개월 취업률',\n",
    "                        'eiEmplCnt3': '3개월 취업인원수',\n",
    "                        'eiEmplRate3': '3개월 취업률',\n",
    "                        'traStartDate': '훈련시작일자',\n",
    "                        'traEndDate' : '훈련종료일자',                        \n",
    "                        'title': '제목',\n",
    "                        'subTitle': '부제목',\n",
    "                        'instCd': '훈련기관 코드',\n",
    "                        'trprId': '훈련과정 ID',\n",
    "                        'yardMan': '정원',\n",
    "                        'courseMan': '수강비',\n",
    "                        'realMan': '실제 훈련비',\n",
    "                        'telNo': '전화번호',\n",
    "                        'grade': '등급',\n",
    "                        'ncsCd': 'NCS 코드',\n",
    "                        'regCourseMan': '수강신청 인원',\n",
    "                        'trprDegr': '훈련과정 순차',\n",
    "                        'address': '주소',\n",
    "                        'trainTarget': '훈련대상',\n",
    "                        'trainTargetCd': '훈련구분',\n",
    "                        'trainstCstId': '훈련기관 ID',\n",
    "                        'contents': '컨텐츠',\n",
    "                        'subTitleLink': '부제목 링크',\n",
    "                        'titleLink': '제목 링크',\n",
    "                        'titleIcon': '제목 아이콘'\n",
    "                        }, inplace = True)"
   ]
  },
  {
   "cell_type": "code",
   "execution_count": 169,
   "metadata": {},
   "outputs": [],
   "source": [
    "# 컬럼 순서 변경\n",
    "\n",
    "df_hrd = df_hrd[['제목','제목 링크', '제목 아이콘', '부제목', '부제목 링크','주소',\n",
    "        'NCS 코드', '훈련대상', '훈련구분','훈련과정 ID', '훈련기관 ID','훈련기관 코드', '컨텐츠',\n",
    "        '6개월 취업률', '3개월 취업인원수', '3개월 취업률','훈련시작일자', '훈련종료일자',\n",
    "        '수강비', '실제 훈련비', '전화번호',  '등급', '정원', '수강신청 인원', '훈련과정 순차']]"
   ]
  },
  {
   "attachments": {},
   "cell_type": "markdown",
   "metadata": {},
   "source": [
    "### 4. 데이터프레임 저장"
   ]
  },
  {
   "cell_type": "code",
   "execution_count": 171,
   "metadata": {},
   "outputs": [
    {
     "name": "stderr",
     "output_type": "stream",
     "text": [
      "c:\\Users\\thoma\\anaconda3\\envs\\t_academy\\lib\\site-packages\\pandas\\core\\internals\\blocks.py:2323: RuntimeWarning: invalid value encountered in cast\n",
      "  values = values.astype(str)\n"
     ]
    }
   ],
   "source": [
    "df_hrd.to_csv('hrd_net.csv')"
   ]
  },
  {
   "cell_type": "code",
   "execution_count": 2,
   "metadata": {},
   "outputs": [],
   "source": [
    "df_hrd = pd.read_csv('hrd_net.csv', index_col=0)"
   ]
  }
 ],
 "metadata": {
  "kernelspec": {
   "display_name": "t_academy",
   "language": "python",
   "name": "python3"
  },
  "language_info": {
   "codemirror_mode": {
    "name": "ipython",
    "version": 3
   },
   "file_extension": ".py",
   "mimetype": "text/x-python",
   "name": "python",
   "nbconvert_exporter": "python",
   "pygments_lexer": "ipython3",
   "version": "3.10.8"
  },
  "orig_nbformat": 4
 },
 "nbformat": 4,
 "nbformat_minor": 2
}
